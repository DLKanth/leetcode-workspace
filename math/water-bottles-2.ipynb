{
 "cells": [
  {
   "metadata": {
    "collapsed": true
   },
   "cell_type": "markdown",
   "source": [
    "## Water Bottles 2\n",
    "\n",
    "You are given two integers numBottles and numExchange.\n",
    "\n",
    "numBottles represents the number of full water bottles that you initially have. In one operation, you can perform one of the following operations:\n",
    "\n",
    "Drink any number of full water bottles turning them into empty bottles.\n",
    "Exchange numExchange empty bottles with one full water bottle. Then, increase numExchange by one.\n",
    "Note that you cannot exchange multiple batches of empty bottles for the same value of numExchange. For example, if numBottles == 3 and numExchange == 1, you cannot exchange 3 empty water bottles for 3 full bottles.\n",
    "\n",
    "Return the maximum number of water bottles you can drink.\n",
    "\n",
    "Example 1:\n",
    "\n",
    "![image](https://assets.leetcode.com/uploads/2024/01/28/exampleone1.png)\n",
    "\n",
    "Input: numBottles = 13, numExchange = 6\n",
    "Output: 15\n",
    "Explanation: The table above shows the number of full water bottles, empty water bottles, the value of numExchange, and the number of bottles drunk.\n",
    "\n",
    "Example 2:\n",
    "\n",
    "![image](https://assets.leetcode.com/uploads/2024/01/28/example231.png)\n",
    "\n",
    "Input: numBottles = 10, numExchange = 3\n",
    "Output: 13\n",
    "Explanation: The table above shows the number of full water bottles, empty water bottles, the value of numExchange, and the number of bottles drunk.\n",
    "\n",
    "\n",
    "Constraints:\n",
    "\n",
    "1 <= numBottles <= 100\n",
    "1 <= numExchange <= 100"
   ]
  },
  {
   "metadata": {
    "ExecuteTime": {
     "end_time": "2025-10-02T10:55:46.247019Z",
     "start_time": "2025-10-02T10:55:46.063289Z"
    }
   },
   "cell_type": "code",
   "source": [
    "class Solution {\n",
    "    fun maxBottlesDrunk(numBottles: Int, numExchange: Int): Int {\n",
    "        var curExchange = numExchange\n",
    "        var remBottles = numBottles\n",
    "        var drinks = numBottles\n",
    "\n",
    "        do {\n",
    "            var drinksObtained = 0\n",
    "            while (remBottles >= curExchange) {\n",
    "                remBottles -= curExchange\n",
    "                drinksObtained += 1\n",
    "                curExchange += 1\n",
    "            }\n",
    "            drinks += drinksObtained\n",
    "            remBottles += drinksObtained\n",
    "        } while (remBottles >= curExchange)\n",
    "\n",
    "        return drinks\n",
    "    }\n",
    "}"
   ],
   "outputs": [],
   "execution_count": 1
  },
  {
   "metadata": {
    "ExecuteTime": {
     "end_time": "2025-10-02T10:56:34.487501Z",
     "start_time": "2025-10-02T10:56:34.452616Z"
    }
   },
   "cell_type": "code",
   "source": [
    "fun main() {\n",
    "    println(\n",
    "        Solution().maxBottlesDrunk(10, 3)\n",
    "    )\n",
    "}\n",
    "main()"
   ],
   "outputs": [
    {
     "name": "stdout",
     "output_type": "stream",
     "text": [
      "13\n"
     ]
    }
   ],
   "execution_count": 4
  }
 ],
 "metadata": {
  "kernelspec": {
   "display_name": "Kotlin",
   "language": "kotlin",
   "name": "kotlin"
  },
  "language_info": {
   "name": "kotlin",
   "version": "2.2.20-Beta2",
   "mimetype": "text/x-kotlin",
   "file_extension": ".kt",
   "pygments_lexer": "kotlin",
   "codemirror_mode": "text/x-kotlin",
   "nbconvert_exporter": ""
  }
 },
 "nbformat": 4,
 "nbformat_minor": 0
}
