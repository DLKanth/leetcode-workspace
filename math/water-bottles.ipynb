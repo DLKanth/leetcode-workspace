{
 "cells": [
  {
   "metadata": {},
   "cell_type": "markdown",
   "source": [
    "# 1518 - Water Bottles\n",
    "\n",
    "There are numBottles water bottles that are initially full of water. You can exchange numExchange empty water bottlesfrom the market with one full water bottle.\n",
    "\n",
    "The operation of drinking a full water bottle turns it into an empty bottle.\n",
    "\n",
    "Given the two integers numBottles and numExchange, return the maximum number of water bottles you can drink.\n",
    "\n",
    "Example 1:\n",
    "\n",
    "Input: numBottles = 9, numExchange = 3\n",
    "Output: 13\n",
    "Explanation: You can exchange 3 empty bottles to get 1 full water bottle.\n",
    "Number of water bottles you can drink: 9 + 3 + 1 = 13.\n",
    "\n",
    "Example 2:\n",
    "\n",
    "Input: numBottles = 15, numExchange = 4\n",
    "Output: 19\n",
    "Explanation: You can exchange 4 empty bottles to get 1 full water bottle.\n",
    "Number of water bottles you can drink: 15 + 3 + 1 = 19.\n",
    "\n",
    "\n",
    "Constraints:\n",
    "\n",
    "    1 <= numBottles <= 100\n",
    "    2 <= numExchange <= 100\n"
   ]
  },
  {
   "metadata": {},
   "cell_type": "markdown",
   "source": "# Solution"
  },
  {
   "metadata": {
    "ExecuteTime": {
     "end_time": "2025-10-01T08:23:23.963856Z",
     "start_time": "2025-10-01T08:23:23.392203Z"
    }
   },
   "cell_type": "code",
   "source": [
    "class Solution {\n",
    "    fun numWaterBottles(numBottles: Int, numExchange: Int): Int {\n",
    "        var drinks = numBottles\n",
    "        var remBottles = numBottles\n",
    "        do {\n",
    "            val exchanged = remBottles / numExchange\n",
    "            drinks += exchanged\n",
    "            remBottles = exchanged + (remBottles % numExchange)\n",
    "        } while (remBottles >= numExchange)\n",
    "        return drinks\n",
    "    }\n",
    "}"
   ],
   "outputs": [],
   "execution_count": 9
  },
  {
   "metadata": {},
   "cell_type": "markdown",
   "source": "Example 1:"
  },
  {
   "metadata": {
    "ExecuteTime": {
     "end_time": "2025-10-01T08:23:36.691787Z",
     "start_time": "2025-10-01T08:23:36.294958Z"
    }
   },
   "cell_type": "code",
   "source": [
    "fun main() {\n",
    "    println(Solution().numWaterBottles(15, 4))\n",
    "}\n",
    "main()"
   ],
   "outputs": [
    {
     "name": "stdout",
     "output_type": "stream",
     "text": [
      "19\n"
     ]
    }
   ],
   "execution_count": 11
  }
 ],
 "metadata": {
  "kernelspec": {
   "display_name": "Kotlin",
   "language": "kotlin",
   "name": "kotlin"
  },
  "language_info": {
   "name": "kotlin",
   "version": "2.2.20-Beta2",
   "mimetype": "text/x-kotlin",
   "file_extension": ".kt",
   "pygments_lexer": "kotlin",
   "codemirror_mode": "text/x-kotlin",
   "nbconvert_exporter": ""
  }
 },
 "nbformat": 4,
 "nbformat_minor": 0
}
