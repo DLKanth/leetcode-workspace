{
 "cells": [
  {
   "metadata": {
    "collapsed": true
   },
   "cell_type": "markdown",
   "source": [
    "## Same Tree\n",
    "\n",
    "Given the roots of two binary trees p and q, write a function to check if they are the same or not.\n",
    "\n",
    "Two binary trees are considered the same if they are structurally identical, and the nodes have the same value.\n",
    "\n",
    "Example 1:\n",
    "\n",
    "Input: p = [1,2,3], q = [1,2,3]\n",
    "Output: true\n",
    "\n",
    "![image](https://assets.leetcode.com/uploads/2020/12/20/ex1.jpg)\n",
    "\n",
    "Example 2:\n",
    "\n",
    "Input: p = [1,2], q = [1,null,2]\n",
    "Output: false\n",
    "\n",
    "![image](https://assets.leetcode.com/uploads/2020/12/20/ex2.jpg)\n",
    "\n",
    "Example 3:\n",
    "\n",
    "Input: p = [1,2,1], q = [1,1,2]\n",
    "Output: false\n",
    "\n",
    "\n",
    "Constraints:\n",
    "\n",
    "    The number of nodes in both trees is in the range [0, 100].\n",
    "    -104 <= Node.val <= 104\n",
    "\n"
   ]
  },
  {
   "metadata": {},
   "cell_type": "markdown",
   "source": "## Solution"
  },
  {
   "metadata": {
    "ExecuteTime": {
     "end_time": "2025-10-01T10:10:47.202148Z",
     "start_time": "2025-10-01T10:10:45.439734Z"
    }
   },
   "cell_type": "code",
   "source": [
    "data class TreeNode(\n",
    "    val `val`: Int,\n",
    "    var left: TreeNode? = null,\n",
    "    var right: TreeNode? = null\n",
    ")\n",
    "\n",
    "// Convert an array (with nulls) into a binary tree\n",
    "fun buildTree(arr: Array<Int?>): TreeNode? {\n",
    "    if (arr.isEmpty() || arr[0] == null) return null\n",
    "\n",
    "    val root = TreeNode(arr[0]!!)\n",
    "    val queue: ArrayDeque<TreeNode> = ArrayDeque()\n",
    "    queue.add(root)\n",
    "\n",
    "    var i = 1\n",
    "    while (i < arr.size) {\n",
    "        val current = queue.removeFirst()\n",
    "\n",
    "        // Left child\n",
    "        if (i < arr.size && arr[i] != null) {\n",
    "            current.left = TreeNode(arr[i]!!)\n",
    "            queue.add(current.left!!)\n",
    "        }\n",
    "        i++\n",
    "\n",
    "        // Right child\n",
    "        if (i < arr.size && arr[i] != null) {\n",
    "            current.right = TreeNode(arr[i]!!)\n",
    "            queue.add(current.right!!)\n",
    "        }\n",
    "        i++\n",
    "    }\n",
    "\n",
    "    return root\n",
    "}"
   ],
   "outputs": [],
   "execution_count": 1
  },
  {
   "metadata": {
    "ExecuteTime": {
     "end_time": "2025-10-01T10:25:03.359696Z",
     "start_time": "2025-10-01T10:25:02.861409Z"
    }
   },
   "cell_type": "code",
   "source": [
    "class Solution {\n",
    "    fun isSameTree(p: TreeNode?, q: TreeNode?): Boolean {\n",
    "        if (p == null && q == null) {\n",
    "            return true\n",
    "        }\n",
    "\n",
    "        if (p == null || q == null || p.`val` != q.`val`) {\n",
    "            return  false\n",
    "        }\n",
    "\n",
    "        return isSameTree(p.left, q.left) && isSameTree(p.right, q.right)\n",
    "    }\n",
    "}"
   ],
   "outputs": [],
   "execution_count": 2
  },
  {
   "metadata": {},
   "cell_type": "markdown",
   "source": "Example:"
  },
  {
   "metadata": {
    "ExecuteTime": {
     "end_time": "2025-10-01T10:25:48.913122Z",
     "start_time": "2025-10-01T10:25:48.238718Z"
    }
   },
   "cell_type": "code",
   "source": [
    "fun main() {\n",
    "    val pRoot = buildTree(arrayOf(1,2,1))\n",
    "    val qRoot = buildTree(arrayOf(1,1,2))\n",
    "\n",
    "    println(\n",
    "        Solution().isSameTree(pRoot, qRoot)\n",
    "    )\n",
    "}\n",
    "\n",
    "main()"
   ],
   "outputs": [
    {
     "name": "stdout",
     "output_type": "stream",
     "text": [
      "false\n"
     ]
    }
   ],
   "execution_count": 5
  }
 ],
 "metadata": {
  "kernelspec": {
   "display_name": "Kotlin",
   "language": "kotlin",
   "name": "kotlin"
  },
  "language_info": {
   "name": "kotlin",
   "version": "2.2.20-Beta2",
   "mimetype": "text/x-kotlin",
   "file_extension": ".kt",
   "pygments_lexer": "kotlin",
   "codemirror_mode": "text/x-kotlin",
   "nbconvert_exporter": ""
  }
 },
 "nbformat": 4,
 "nbformat_minor": 0
}
