{
 "cells": [
  {
   "metadata": {},
   "cell_type": "markdown",
   "source": [
    "## Symmetric Tree\n",
    "\n",
    "Given the root of a binary tree, check whether it is a mirror of itself (i.e., symmetric around its center).\n",
    "\n",
    "Example 1:\n",
    "\n",
    "![image](https://assets.leetcode.com/uploads/2021/02/19/symtree1.jpg)\n",
    "\n",
    "Input: root = [1,2,2,3,4,4,3]\n",
    "Output: true\n",
    "\n",
    "Example 2:\n",
    "\n",
    "![image](https://assets.leetcode.com/uploads/2021/02/19/symtree2.jpg)\n",
    "\n",
    "Input: root = [1,2,2,null,3,null,3]\n",
    "Output: false\n",
    "\n",
    "\n",
    "\n",
    "Constraints:\n",
    "\n",
    "    The number of nodes in the tree is in the range [1, 1000].\n",
    "    -100 <= Node.val <= 100\n"
   ]
  },
  {
   "metadata": {},
   "cell_type": "markdown",
   "source": "## Solution"
  },
  {
   "cell_type": "code",
   "metadata": {
    "collapsed": true,
    "ExecuteTime": {
     "end_time": "2025-10-01T10:55:14.966373Z",
     "start_time": "2025-10-01T10:55:13.073129Z"
    }
   },
   "source": [
    "data class TreeNode(\n",
    "    val `val`: Int,\n",
    "    var left: TreeNode? = null,\n",
    "    var right: TreeNode? = null\n",
    ")\n",
    "\n",
    "// Convert an array (with nulls) into a binary tree\n",
    "fun buildTree(arr: Array<Int?>): TreeNode? {\n",
    "    if (arr.isEmpty() || arr[0] == null) return null\n",
    "\n",
    "    val root = TreeNode(arr[0]!!)\n",
    "    val queue: ArrayDeque<TreeNode> = ArrayDeque()\n",
    "    queue.add(root)\n",
    "\n",
    "    var i = 1\n",
    "    while (i < arr.size) {\n",
    "        val current = queue.removeFirst()\n",
    "\n",
    "        // Left child\n",
    "        if (i < arr.size && arr[i] != null) {\n",
    "            current.left = TreeNode(arr[i]!!)\n",
    "            queue.add(current.left!!)\n",
    "        }\n",
    "        i++\n",
    "\n",
    "        // Right child\n",
    "        if (i < arr.size && arr[i] != null) {\n",
    "            current.right = TreeNode(arr[i]!!)\n",
    "            queue.add(current.right!!)\n",
    "        }\n",
    "        i++\n",
    "    }\n",
    "\n",
    "    return root\n",
    "}"
   ],
   "outputs": [],
   "execution_count": 1
  },
  {
   "metadata": {
    "ExecuteTime": {
     "end_time": "2025-10-01T11:00:08.290792Z",
     "start_time": "2025-10-01T11:00:07.583466Z"
    }
   },
   "cell_type": "code",
   "source": [
    "class Solution {\n",
    "    fun isSymmetric(root: TreeNode?): Boolean {\n",
    "\n",
    "        if (root == null) {\n",
    "            return true\n",
    "        }\n",
    "        fun isMirror(p: TreeNode?, q: TreeNode?): Boolean {\n",
    "            if (p == null && q == null) {\n",
    "                return true\n",
    "            }\n",
    "            if (p == null || q == null || p.`val` != q.`val`) {\n",
    "                return false\n",
    "            }\n",
    "            return isMirror(p.left, q.right) && isMirror(p.right, q.left)\n",
    "        }\n",
    "\n",
    "        return isMirror(root.left, root.right)\n",
    "    }\n",
    "}"
   ],
   "outputs": [],
   "execution_count": 2
  },
  {
   "metadata": {
    "ExecuteTime": {
     "end_time": "2025-10-01T11:00:30.703554Z",
     "start_time": "2025-10-01T11:00:30.222856Z"
    }
   },
   "cell_type": "code",
   "source": [
    "fun main() {\n",
    "    val treeNode = buildTree(arrayOf(1,2,2,null,3,null,3))\n",
    "    println(\n",
    "        Solution().isSymmetric(treeNode)\n",
    "    )\n",
    "}\n",
    "main()"
   ],
   "outputs": [
    {
     "name": "stdout",
     "output_type": "stream",
     "text": [
      "false\n"
     ]
    }
   ],
   "execution_count": 4
  }
 ],
 "metadata": {
  "kernelspec": {
   "display_name": "Kotlin",
   "language": "kotlin",
   "name": "kotlin"
  },
  "language_info": {
   "name": "kotlin",
   "version": "2.2.20-Beta2",
   "mimetype": "text/x-kotlin",
   "file_extension": ".kt",
   "pygments_lexer": "kotlin",
   "codemirror_mode": "text/x-kotlin",
   "nbconvert_exporter": ""
  }
 },
 "nbformat": 4,
 "nbformat_minor": 0
}
