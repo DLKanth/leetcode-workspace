{
 "cells": [
  {
   "metadata": {
    "collapsed": true
   },
   "cell_type": "markdown",
   "source": [
    "# Find Triangular Sum of an Array\n",
    "\n",
    "You are given a 0-indexed integer array nums, where nums[i] is a digit between 0 and 9 (inclusive).\n",
    "\n",
    "The triangular sum of nums is the value of the only element present in nums after the following process terminates:\n",
    "\n",
    "    Let nums comprise of n elements. If n == 1, end the process. Otherwise, create a new 0-indexed integer array newNums of length n - 1.\n",
    "    For each index i, where 0 <= i < n - 1, assign the value of newNums[i] as (nums[i] + nums[i+1]) % 10, where % denotes modulo operator.\n",
    "    Replace the array nums with newNums.\n",
    "    Repeat the entire process starting from step 1.\n",
    "\n",
    "Return the triangular sum of nums.\n",
    "\n",
    "Example 1:\n",
    "\n",
    "Input: nums = [1,2,3,4,5]\n",
    "Output: 8\n",
    "Explanation:\n",
    "The above diagram depicts the process from which we obtain the triangular sum of the array.\n",
    "\n",
    "Example 2:\n",
    "\n",
    "Input: nums = [5]\n",
    "Output: 5\n",
    "Explanation:\n",
    "Since there is only one element in nums, the triangular sum is the value of that element itself.\n",
    "\n",
    "Constraints:\n",
    "\n",
    "    1 <= nums.length <= 1000\n",
    "    0 <= nums[i] <= 9\n",
    "\n"
   ]
  },
  {
   "metadata": {},
   "cell_type": "markdown",
   "source": "# Solution"
  },
  {
   "metadata": {
    "ExecuteTime": {
     "end_time": "2025-10-01T08:43:03.282459Z",
     "start_time": "2025-10-01T08:43:01.420659Z"
    }
   },
   "cell_type": "code",
   "source": [
    "class Solution {\n",
    "    fun triangularSum(nums: IntArray): Int {\n",
    "        var n = nums.size\n",
    "        var numsArr = nums\n",
    "        while (n > 1) {\n",
    "            val tempArr = IntArray(n - 1)\n",
    "            for (i in 0 until n - 1) {\n",
    "                tempArr[i] = (numsArr[i] + numsArr[i + 1]) % 10\n",
    "            }\n",
    "            n -= 1\n",
    "            numsArr = tempArr\n",
    "        }\n",
    "        return numsArr[0];\n",
    "    }\n",
    "}"
   ],
   "outputs": [],
   "execution_count": 1
  },
  {
   "metadata": {},
   "cell_type": "markdown",
   "source": "## Example"
  },
  {
   "metadata": {
    "ExecuteTime": {
     "end_time": "2025-10-01T08:43:39.240385Z",
     "start_time": "2025-10-01T08:43:38.854405Z"
    }
   },
   "cell_type": "code",
   "source": [
    "fun main() {\n",
    "    println(\n",
    "        Solution().triangularSum(intArrayOf(1, 2, 3, 4, 5))\n",
    "    )\n",
    "}\n",
    "main()"
   ],
   "outputs": [
    {
     "name": "stdout",
     "output_type": "stream",
     "text": [
      "8\n"
     ]
    }
   ],
   "execution_count": 3
  }
 ],
 "metadata": {
  "kernelspec": {
   "display_name": "Kotlin",
   "language": "kotlin",
   "name": "kotlin"
  },
  "language_info": {
   "name": "kotlin",
   "version": "2.2.20-Beta2",
   "mimetype": "text/x-kotlin",
   "file_extension": ".kt",
   "pygments_lexer": "kotlin",
   "codemirror_mode": "text/x-kotlin",
   "nbconvert_exporter": ""
  }
 },
 "nbformat": 4,
 "nbformat_minor": 0
}
