{
 "cells": [
  {
   "metadata": {},
   "cell_type": "markdown",
   "source": [
    "## Container with most water\n",
    "\n",
    "You are given an integer array height of length n. There are n vertical lines drawn such that the two endpoints of the ith line are (i, 0) and (i, height[i]).\n",
    "\n",
    "Find two lines that together with the x-axis form a container, such that the container contains the most water.\n",
    "\n",
    "Return the maximum amount of water a container can store.\n",
    "\n",
    "Notice that you may not slant the container.\n",
    "\n",
    "Example 1:\n",
    "\n",
    "![image](https://s3-lc-upload.s3.amazonaws.com/uploads/2018/07/17/question_11.jpg)\n",
    "\n",
    "Input: height = [1,8,6,2,5,4,8,3,7]\n",
    "Output: 49\n",
    "Explanation: The above vertical lines are represented by array [1,8,6,2,5,4,8,3,7]. In this case, the max area of water (blue section) the container can contain is 49.\n",
    "Example 2:\n",
    "\n",
    "Input: height = [1,1]\n",
    "Output: 1\n",
    "\n",
    "\n",
    "Constraints:\n",
    "\n",
    "n == height.length\n",
    "2 <= n <= 105\n",
    "0 <= height[i] <= 104"
   ]
  },
  {
   "metadata": {
    "ExecuteTime": {
     "end_time": "2025-10-04T05:15:27.914065Z",
     "start_time": "2025-10-04T05:15:27.829106Z"
    }
   },
   "cell_type": "code",
   "source": [
    "class Solution {\n",
    "    fun maxArea(height: IntArray): Int {\n",
    "        var l = 0\n",
    "        var r = height.size - 1\n",
    "        var maxVolume = 0\n",
    "        while (l < r) {\n",
    "            val len = r - l\n",
    "            if (height[l] <= height[r]) {\n",
    "                maxVolume = max(maxVolume, height[l] * len)\n",
    "                l += 1\n",
    "            } else {\n",
    "                maxVolume = max(maxVolume, height[r] * len)\n",
    "                r -= 1\n",
    "            }\n",
    "        }\n",
    "        return maxVolume\n",
    "    }\n",
    "}"
   ],
   "outputs": [],
   "execution_count": 5
  },
  {
   "metadata": {
    "ExecuteTime": {
     "end_time": "2025-10-04T05:15:29.560076Z",
     "start_time": "2025-10-04T05:15:29.520621Z"
    }
   },
   "cell_type": "code",
   "source": [
    "fun main() {\n",
    "    println(\n",
    "        Solution().maxArea(intArrayOf(1,8,6,2,5,4,8,3,7))\n",
    "    )\n",
    "}\n",
    "main()"
   ],
   "outputs": [
    {
     "name": "stdout",
     "output_type": "stream",
     "text": [
      "49\n"
     ]
    }
   ],
   "execution_count": 6
  }
 ],
 "metadata": {
  "kernelspec": {
   "display_name": "Kotlin",
   "language": "kotlin",
   "name": "kotlin"
  },
  "language_info": {
   "name": "kotlin",
   "version": "2.2.20-Beta2",
   "mimetype": "text/x-kotlin",
   "file_extension": ".kt",
   "pygments_lexer": "kotlin",
   "codemirror_mode": "text/x-kotlin",
   "nbconvert_exporter": ""
  }
 },
 "nbformat": 4,
 "nbformat_minor": 0
}
